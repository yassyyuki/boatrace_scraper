{
 "cells": [
  {
   "cell_type": "code",
   "execution_count": 14,
   "id": "0f13e355",
   "metadata": {},
   "outputs": [
    {
     "name": "stdout",
     "output_type": "stream",
     "text": [
      "Collecting chromedriver-binary==119.0.6045.105\n",
      "  Downloading chromedriver-binary-119.0.6045.105.0.tar.gz (5.6 kB)\n",
      "  Preparing metadata (setup.py) ... \u001b[?25ldone\n",
      "\u001b[?25hBuilding wheels for collected packages: chromedriver-binary\n",
      "  Building wheel for chromedriver-binary (setup.py) ... \u001b[?25ldone\n",
      "\u001b[?25h  Created wheel for chromedriver-binary: filename=chromedriver_binary-119.0.6045.105.0-py3-none-any.whl size=9089953 sha256=37c0f95f49d64bffaf144fe66d136cce182b90a68a7f142cbb31c81584036986\n",
      "  Stored in directory: /Users/yashigeyuki/Library/Caches/pip/wheels/f3/2b/c5/80171ccca5f3031e8b9f8774103ca0cb8f7c171a3f4e474216\n",
      "Successfully built chromedriver-binary\n",
      "Installing collected packages: chromedriver-binary\n",
      "  Attempting uninstall: chromedriver-binary\n",
      "    Found existing installation: chromedriver-binary 117.0.5938.92.0\n",
      "    Uninstalling chromedriver-binary-117.0.5938.92.0:\n",
      "      Successfully uninstalled chromedriver-binary-117.0.5938.92.0\n",
      "Successfully installed chromedriver-binary-119.0.6045.105.0\n",
      "\n",
      "\u001b[1m[\u001b[0m\u001b[34;49mnotice\u001b[0m\u001b[1;39;49m]\u001b[0m\u001b[39;49m A new release of pip is available: \u001b[0m\u001b[31;49m23.1.2\u001b[0m\u001b[39;49m -> \u001b[0m\u001b[32;49m23.3.1\u001b[0m\n",
      "\u001b[1m[\u001b[0m\u001b[34;49mnotice\u001b[0m\u001b[1;39;49m]\u001b[0m\u001b[39;49m To update, run: \u001b[0m\u001b[32;49mpip install --upgrade pip\u001b[0m\n"
     ]
    }
   ],
   "source": [
    "!pip install chromedriver-binary==119.0.6045.105"
   ]
  },
  {
   "cell_type": "code",
   "execution_count": 25,
   "id": "e6b1f8c5",
   "metadata": {},
   "outputs": [],
   "source": [
    "import chromedriver_binary\n",
    "from selenium import webdriver\n",
    "from selenium.webdriver.chrome.options import Options\n",
    "\n",
    "# オプションを設定してヘッドレスモードを有効にする\n",
    "chrome_options = Options()\n",
    "chrome_options.add_argument(\"--headless\")  # GUIをオフに\n",
    "chrome_options.add_argument(\"--disable-gpu\")  # GPUハードウェアアクセラレーションをオフに。Windows環境では必要な場合があります。\n",
    "chrome_options.add_argument(\"--no-sandbox\")  # サンドボックスプロセスを無効に。Linux環境の一部のセキュリティ制約を回避するために必要な場合があります。\n",
    "\n",
    "# ヘッドレスモードでChromeを起動\n",
    "driver = webdriver.Chrome(options=chrome_options)\n",
    "# driver = webdriver.Chrome()\n",
    "\n",
    "date = 20131101\n",
    "\n",
    "# スクレイピング対象のURL\n",
    "url = f'https://www.boatrace.jp/owpc/pc/race/index?hd={date}'\n",
    "\n",
    "# スクレイピング対象のURLにアクセス\n",
    "driver.get(url)\n",
    "\n",
    "# スクレイピング処理など...\n",
    "\n",
    "# ブラウザを閉じる\n",
    "# driver.quit()\n",
    "\n",
    "\n"
   ]
  },
  {
   "cell_type": "code",
   "execution_count": 60,
   "id": "c69dea39",
   "metadata": {},
   "outputs": [],
   "source": [
    "from selenium.webdriver.common.by import By\n",
    "\n",
    "\n",
    "table_x_path = '/html/body/main/div/div/div/div[2]/div[3]/table'\n",
    "table = driver.find_element(by=By.XPATH, value=table_x_path)\n",
    "\n",
    "tbody_elements = table.find_elements(by=By.TAG_NAME, value='tbody')"
   ]
  },
  {
   "cell_type": "code",
   "execution_count": 61,
   "id": "b1425c75",
   "metadata": {
    "scrolled": true
   },
   "outputs": [
    {
     "data": {
      "text/plain": [
       "[<selenium.webdriver.remote.webelement.WebElement (session=\"bcbe5678ccf06796bf5db7d643f201fc\", element=\"C49F142BD44C60DDDE8DBE36B53C3AC5_element_13\")>,\n",
       " <selenium.webdriver.remote.webelement.WebElement (session=\"bcbe5678ccf06796bf5db7d643f201fc\", element=\"C49F142BD44C60DDDE8DBE36B53C3AC5_element_25\")>,\n",
       " <selenium.webdriver.remote.webelement.WebElement (session=\"bcbe5678ccf06796bf5db7d643f201fc\", element=\"C49F142BD44C60DDDE8DBE36B53C3AC5_element_26\")>,\n",
       " <selenium.webdriver.remote.webelement.WebElement (session=\"bcbe5678ccf06796bf5db7d643f201fc\", element=\"C49F142BD44C60DDDE8DBE36B53C3AC5_element_27\")>,\n",
       " <selenium.webdriver.remote.webelement.WebElement (session=\"bcbe5678ccf06796bf5db7d643f201fc\", element=\"C49F142BD44C60DDDE8DBE36B53C3AC5_element_28\")>,\n",
       " <selenium.webdriver.remote.webelement.WebElement (session=\"bcbe5678ccf06796bf5db7d643f201fc\", element=\"C49F142BD44C60DDDE8DBE36B53C3AC5_element_29\")>,\n",
       " <selenium.webdriver.remote.webelement.WebElement (session=\"bcbe5678ccf06796bf5db7d643f201fc\", element=\"C49F142BD44C60DDDE8DBE36B53C3AC5_element_30\")>,\n",
       " <selenium.webdriver.remote.webelement.WebElement (session=\"bcbe5678ccf06796bf5db7d643f201fc\", element=\"C49F142BD44C60DDDE8DBE36B53C3AC5_element_31\")>,\n",
       " <selenium.webdriver.remote.webelement.WebElement (session=\"bcbe5678ccf06796bf5db7d643f201fc\", element=\"C49F142BD44C60DDDE8DBE36B53C3AC5_element_32\")>,\n",
       " <selenium.webdriver.remote.webelement.WebElement (session=\"bcbe5678ccf06796bf5db7d643f201fc\", element=\"C49F142BD44C60DDDE8DBE36B53C3AC5_element_33\")>,\n",
       " <selenium.webdriver.remote.webelement.WebElement (session=\"bcbe5678ccf06796bf5db7d643f201fc\", element=\"C49F142BD44C60DDDE8DBE36B53C3AC5_element_34\")>,\n",
       " <selenium.webdriver.remote.webelement.WebElement (session=\"bcbe5678ccf06796bf5db7d643f201fc\", element=\"C49F142BD44C60DDDE8DBE36B53C3AC5_element_35\")>]"
      ]
     },
     "execution_count": 61,
     "metadata": {},
     "output_type": "execute_result"
    }
   ],
   "source": [
    "tbody_elements"
   ]
  },
  {
   "cell_type": "code",
   "execution_count": 67,
   "id": "d42dd200",
   "metadata": {},
   "outputs": [
    {
     "name": "stdout",
     "output_type": "stream",
     "text": [
      "C49F142BD44C60DDDE8DBE36B53C3AC5_element_13\n",
      "桐生\n",
      "is-ippan \n",
      "when: is-nighter\n",
      "https://www.boatrace.jp/owpc/pc/race/raceindex?jcd=01&hd=20131101\n",
      "resultlist_url: https://www.boatrace.jp/owpc/pc/race/resultlist?jcd=01&hd=20131101\n",
      "C49F142BD44C60DDDE8DBE36B53C3AC5_element_25\n",
      "戸田\n",
      "is-ippan \n",
      "when: \n",
      "https://www.boatrace.jp/owpc/pc/race/raceindex?jcd=02&hd=20131101\n",
      "resultlist_url: https://www.boatrace.jp/owpc/pc/race/resultlist?jcd=02&hd=20131101\n",
      "C49F142BD44C60DDDE8DBE36B53C3AC5_element_26\n",
      "平和島\n",
      "is-ippan \n",
      "when: \n",
      "https://www.boatrace.jp/owpc/pc/race/raceindex?jcd=04&hd=20131101\n",
      "resultlist_url: https://www.boatrace.jp/owpc/pc/race/resultlist?jcd=04&hd=20131101\n",
      "C49F142BD44C60DDDE8DBE36B53C3AC5_element_27\n",
      "常滑\n",
      "is-G3b \n",
      "when: \n",
      "https://www.boatrace.jp/owpc/pc/race/raceindex?jcd=08&hd=20131101\n",
      "resultlist_url: https://www.boatrace.jp/owpc/pc/race/resultlist?jcd=08&hd=20131101\n",
      "C49F142BD44C60DDDE8DBE36B53C3AC5_element_28\n",
      "三国\n",
      "is-ippan \n",
      "when: \n",
      "https://www.boatrace.jp/owpc/pc/race/raceindex?jcd=10&hd=20131101\n",
      "resultlist_url: https://www.boatrace.jp/owpc/pc/race/resultlist?jcd=10&hd=20131101\n",
      "C49F142BD44C60DDDE8DBE36B53C3AC5_element_29\n",
      "住之江\n",
      "is-ippan \n",
      "when: is-nighter\n",
      "https://www.boatrace.jp/owpc/pc/race/raceindex?jcd=12&hd=20131101\n",
      "resultlist_url: https://www.boatrace.jp/owpc/pc/race/resultlist?jcd=12&hd=20131101\n",
      "C49F142BD44C60DDDE8DBE36B53C3AC5_element_30\n",
      "尼崎\n",
      "is-ippan \n",
      "when: \n",
      "https://www.boatrace.jp/owpc/pc/race/raceindex?jcd=13&hd=20131101\n",
      "resultlist_url: https://www.boatrace.jp/owpc/pc/race/resultlist?jcd=13&hd=20131101\n",
      "C49F142BD44C60DDDE8DBE36B53C3AC5_element_31\n",
      "鳴門\n",
      "is-ippan \n",
      "when: \n",
      "https://www.boatrace.jp/owpc/pc/race/raceindex?jcd=14&hd=20131101\n",
      "resultlist_url: https://www.boatrace.jp/owpc/pc/race/resultlist?jcd=14&hd=20131101\n",
      "C49F142BD44C60DDDE8DBE36B53C3AC5_element_32\n",
      "児島\n",
      "is-ippan \n",
      "when: \n",
      "https://www.boatrace.jp/owpc/pc/race/raceindex?jcd=16&hd=20131101\n",
      "resultlist_url: https://www.boatrace.jp/owpc/pc/race/resultlist?jcd=16&hd=20131101\n",
      "C49F142BD44C60DDDE8DBE36B53C3AC5_element_33\n",
      "徳山\n",
      "is-ippan \n",
      "when: is-morning\n",
      "https://www.boatrace.jp/owpc/pc/race/raceindex?jcd=18&hd=20131101\n",
      "resultlist_url: https://www.boatrace.jp/owpc/pc/race/resultlist?jcd=18&hd=20131101\n",
      "C49F142BD44C60DDDE8DBE36B53C3AC5_element_34\n",
      "下関\n",
      "is-ippan \n",
      "when: \n",
      "https://www.boatrace.jp/owpc/pc/race/raceindex?jcd=19&hd=20131101\n",
      "resultlist_url: https://www.boatrace.jp/owpc/pc/race/resultlist?jcd=19&hd=20131101\n",
      "C49F142BD44C60DDDE8DBE36B53C3AC5_element_35\n",
      "福岡\n",
      "is-G1b \n",
      "when: \n",
      "https://www.boatrace.jp/owpc/pc/race/raceindex?jcd=22&hd=20131101\n",
      "resultlist_url: https://www.boatrace.jp/owpc/pc/race/resultlist?jcd=22&hd=20131101\n"
     ]
    }
   ],
   "source": [
    "for tbody in tbody_elements:\n",
    "    print(tbody.id)\n",
    "    # ボートレース場\n",
    "    place_name = tbody.find_element(By.TAG_NAME, 'tr').find_elements(By.TAG_NAME, 'td')[0].find_element(By.TAG_NAME, 'img').get_attribute('alt')\n",
    "    print(place_name)\n",
    "    # グレード\n",
    "    grade = tbody.find_element(By.TAG_NAME, 'tr').find_elements(By.TAG_NAME, 'td')[2].get_attribute('class')\n",
    "    print(grade)\n",
    "    # 開催時間帯\n",
    "    when = tbody.find_element(By.TAG_NAME, 'tr').find_elements(By.TAG_NAME, 'td')[3].get_attribute('class')\n",
    "    print('when:', when)\n",
    "    # タイトル\n",
    "    title = tbody.find_element(By.TAG_NAME, 'tr').find_elements(By.TAG_NAME, 'td')[4].find_element(By.TAG_NAME, 'a').text\n",
    "    # タイトルURL\n",
    "    title_url = tbody.find_element(By.TAG_NAME, 'tr').find_elements(By.TAG_NAME, 'td')[4].find_element(By.TAG_NAME, 'a').get_attribute('href')\n",
    "    print(title_url)\n",
    "    race_info_elements = tbody.find_element(By.TAG_NAME, 'tr').find_elements(By.TAG_NAME, 'td')[6].find_elements(By.TAG_NAME, 'li')\n",
    "    # 出走表URL\n",
    "    racelist_url = race_info_elements[0].find_element(By.TAG_NAME, 'a').get_attribute('href')\n",
    "    # オッズURL\n",
    "    odds_url = race_info_elements[1].find_element(By.TAG_NAME, 'a').get_attribute('href')\n",
    "    # 直前情報URL\n",
    "    beforeinfo_url = race_info_elements[2].find_element(By.TAG_NAME, 'a').get_attribute('href')\n",
    "    # コンピュータ予想URL\n",
    "    pcexpect_url = race_info_elements[3].find_element(By.TAG_NAME, 'a').get_attribute('href')\n",
    "    # マイ予想URL\n",
    "    myexpect_url = race_info_elements[4].find_element(By.TAG_NAME, 'a').get_attribute('href')\n",
    "    # 結果URL\n",
    "    raceresult_url = race_info_elements[5].find_element(By.TAG_NAME, 'a').get_attribute('href')\n",
    "    # 結果一覧URL\n",
    "    resultlist_url = race_info_elements[6].find_element(By.TAG_NAME, 'a').get_attribute('href')\n",
    "    print('resultlist_url:', resultlist_url)\n",
    "    "
   ]
  },
  {
   "cell_type": "code",
   "execution_count": null,
   "id": "886cb478",
   "metadata": {},
   "outputs": [],
   "source": [
    "x_path = '/html/body/main/div/div/div/div[2]/div[3]/table/tbody[1]'\n",
    "tbody = driver.find_element(by=By.XPATH, value=x_path)\n",
    "\n",
    "tr_element  = tbody.find_element(By.TAG_NAME, 'tr')\n",
    "\n",
    "td_elements = tr_element.find_elements(By.TAG_NAME, 'td')"
   ]
  }
 ],
 "metadata": {
  "kernelspec": {
   "display_name": "Python 3 (ipykernel)",
   "language": "python",
   "name": "python3"
  },
  "language_info": {
   "codemirror_mode": {
    "name": "ipython",
    "version": 3
   },
   "file_extension": ".py",
   "mimetype": "text/x-python",
   "name": "python",
   "nbconvert_exporter": "python",
   "pygments_lexer": "ipython3",
   "version": "3.8.0"
  }
 },
 "nbformat": 4,
 "nbformat_minor": 5
}
