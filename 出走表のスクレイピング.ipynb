{
 "cells": [
  {
   "cell_type": "code",
   "execution_count": 1,
   "id": "d0fafae7",
   "metadata": {},
   "outputs": [],
   "source": [
    "# !pip install chromedriver-binary==119.0.6045.105"
   ]
  },
  {
   "cell_type": "code",
   "execution_count": 46,
   "id": "a8236f9b",
   "metadata": {},
   "outputs": [],
   "source": [
    "from selenium.webdriver.common.by import By\n",
    "from selenium import webdriver\n",
    "from selenium.webdriver.chrome.options import Options\n",
    "from urllib.parse import urlparse, parse_qs\n",
    "from tqdm import tqdm\n",
    "import chromedriver_binary\n",
    "import time\n",
    "import pandas as pd"
   ]
  },
  {
   "cell_type": "code",
   "execution_count": 47,
   "id": "eab64c7c",
   "metadata": {},
   "outputs": [
    {
     "data": {
      "text/html": [
       "<div>\n",
       "<style scoped>\n",
       "    .dataframe tbody tr th:only-of-type {\n",
       "        vertical-align: middle;\n",
       "    }\n",
       "\n",
       "    .dataframe tbody tr th {\n",
       "        vertical-align: top;\n",
       "    }\n",
       "\n",
       "    .dataframe thead th {\n",
       "        text-align: right;\n",
       "    }\n",
       "</style>\n",
       "<table border=\"1\" class=\"dataframe\">\n",
       "  <thead>\n",
       "    <tr style=\"text-align: right;\">\n",
       "      <th></th>\n",
       "      <th>date</th>\n",
       "      <th>place_name</th>\n",
       "      <th>grade</th>\n",
       "      <th>when</th>\n",
       "      <th>title</th>\n",
       "      <th>title_url</th>\n",
       "      <th>racelist_url</th>\n",
       "      <th>odds_url</th>\n",
       "      <th>beforeinfo_url</th>\n",
       "      <th>pcexpect_url</th>\n",
       "      <th>myexpect_url</th>\n",
       "      <th>raceresult_url</th>\n",
       "      <th>resultlist_url</th>\n",
       "      <th>replay_url</th>\n",
       "      <th>stadium_url</th>\n",
       "    </tr>\n",
       "  </thead>\n",
       "  <tbody>\n",
       "    <tr>\n",
       "      <th>0</th>\n",
       "      <td>20131101</td>\n",
       "      <td>桐生</td>\n",
       "      <td>is-ippan</td>\n",
       "      <td>is-nighter</td>\n",
       "      <td>第４６回サンケイスポーツ杯</td>\n",
       "      <td>https://www.boatrace.jp/owpc/pc/race/raceindex...</td>\n",
       "      <td>https://www.boatrace.jp/owpc/pc/race/racelist?...</td>\n",
       "      <td>https://www.boatrace.jp/owpc/pc/race/odds3t?rn...</td>\n",
       "      <td>https://www.boatrace.jp/owpc/pc/race/beforeinf...</td>\n",
       "      <td>https://www.boatrace.jp/owpc/pc/race/pcexpect?...</td>\n",
       "      <td>https://www.boatrace.jp/owpc/pc/race/myexpect?...</td>\n",
       "      <td>https://www.boatrace.jp/owpc/pc/race/raceresul...</td>\n",
       "      <td>https://www.boatrace.jp/owpc/pc/race/resultlis...</td>\n",
       "      <td>https://www.boatrace.jp/owpc/pc/data/stadium?j...</td>\n",
       "      <td>javascript:MultiOpen('http://livebb.jlc.ne.jp/...</td>\n",
       "    </tr>\n",
       "  </tbody>\n",
       "</table>\n",
       "</div>"
      ],
      "text/plain": [
       "       date place_name      grade        when          title  \\\n",
       "0  20131101         桐生  is-ippan   is-nighter  第４６回サンケイスポーツ杯   \n",
       "\n",
       "                                           title_url  \\\n",
       "0  https://www.boatrace.jp/owpc/pc/race/raceindex...   \n",
       "\n",
       "                                        racelist_url  \\\n",
       "0  https://www.boatrace.jp/owpc/pc/race/racelist?...   \n",
       "\n",
       "                                            odds_url  \\\n",
       "0  https://www.boatrace.jp/owpc/pc/race/odds3t?rn...   \n",
       "\n",
       "                                      beforeinfo_url  \\\n",
       "0  https://www.boatrace.jp/owpc/pc/race/beforeinf...   \n",
       "\n",
       "                                        pcexpect_url  \\\n",
       "0  https://www.boatrace.jp/owpc/pc/race/pcexpect?...   \n",
       "\n",
       "                                        myexpect_url  \\\n",
       "0  https://www.boatrace.jp/owpc/pc/race/myexpect?...   \n",
       "\n",
       "                                      raceresult_url  \\\n",
       "0  https://www.boatrace.jp/owpc/pc/race/raceresul...   \n",
       "\n",
       "                                      resultlist_url  \\\n",
       "0  https://www.boatrace.jp/owpc/pc/race/resultlis...   \n",
       "\n",
       "                                          replay_url  \\\n",
       "0  https://www.boatrace.jp/owpc/pc/data/stadium?j...   \n",
       "\n",
       "                                         stadium_url  \n",
       "0  javascript:MultiOpen('http://livebb.jlc.ne.jp/...  "
      ]
     },
     "execution_count": 47,
     "metadata": {},
     "output_type": "execute_result"
    }
   ],
   "source": [
    "race_info_df = pd.read_csv('race_info_df.csv')\n",
    "race_info_df = race_info_df.drop('Unnamed: 0', axis=1)\n",
    "race_info_df.head(1)"
   ]
  },
  {
   "cell_type": "code",
   "execution_count": 48,
   "id": "66aaae22",
   "metadata": {},
   "outputs": [],
   "source": [
    "# オプションを設定してヘッドレスモードを有効にする\n",
    "chrome_options = Options()\n",
    "chrome_options.add_argument(\"--headless\")  # GUIをオフに\n",
    "chrome_options.add_argument(\"--disable-gpu\")  # GPUハードウェアアクセラレーションをオフに。Windows環境では必要な場合があります。\n",
    "chrome_options.add_argument(\"--no-sandbox\")  # サンドボックスプロセスを無効に。Linux環境の一部のセキュリティ制約を回避するために必要な場合があります。\n",
    "\n",
    "# ヘッドレスモードでChromeを起動\n",
    "driver = webdriver.Chrome(options=chrome_options)\n",
    "# driver = webdriver.Chrome()"
   ]
  },
  {
   "cell_type": "code",
   "execution_count": 49,
   "id": "a0d0b7d8",
   "metadata": {},
   "outputs": [
    {
     "name": "stdout",
     "output_type": "stream",
     "text": [
      "https://www.boatrace.jp/owpc/pc/race/racelist?rno=12&jcd=01&hd=20131101\n",
      "https://www.boatrace.jp/owpc/pc/race/racelist?rno=12&jcd=02&hd=20131101\n",
      "https://www.boatrace.jp/owpc/pc/race/racelist?rno=12&jcd=04&hd=20131101\n",
      "https://www.boatrace.jp/owpc/pc/race/racelist?rno=12&jcd=08&hd=20131101\n",
      "https://www.boatrace.jp/owpc/pc/race/racelist?rno=12&jcd=10&hd=20131101\n",
      "https://www.boatrace.jp/owpc/pc/race/racelist?rno=12&jcd=12&hd=20131101\n",
      "https://www.boatrace.jp/owpc/pc/race/racelist?rno=12&jcd=13&hd=20131101\n",
      "https://www.boatrace.jp/owpc/pc/race/racelist?rno=12&jcd=14&hd=20131101\n",
      "https://www.boatrace.jp/owpc/pc/race/racelist?rno=12&jcd=16&hd=20131101\n",
      "https://www.boatrace.jp/owpc/pc/race/racelist?rno=12&jcd=18&hd=20131101\n"
     ]
    }
   ],
   "source": [
    "for url in list(race_info_df['racelist_url'])[:10]:\n",
    "    print(url)"
   ]
  },
  {
   "cell_type": "code",
   "execution_count": null,
   "id": "126a2ccb",
   "metadata": {},
   "outputs": [
    {
     "name": "stderr",
     "output_type": "stream",
     "text": [
      "  0%|                  | 9/46034 [33:52<2809:38:54, 219.77s/it]"
     ]
    }
   ],
   "source": [
    "data_list = []\n",
    "for url in tqdm(list(race_info_df['racelist_url'])):\n",
    "    for i in range(1, 13):\n",
    "        time.sleep(0.2)\n",
    "#         url = 'https://www.boatrace.jp/owpc/pc/race/racelist?rno=1&jcd=04&hd=20131101'\n",
    "        target_url = f'https://www.boatrace.jp/owpc/pc/race/racelist?rno={i}&jcd' + url.split('&jcd')[-1]\n",
    "\n",
    "        # 日付\n",
    "        date = url[-8:]\n",
    "\n",
    "        # URLを解析してクエリパラメータを取得\n",
    "        parsed_url = urlparse(url)\n",
    "        query_params = parse_qs(parsed_url.query)\n",
    "\n",
    "        # レース場ID\n",
    "        place_id = query_params.get('jcd', [None])[0]\n",
    "\n",
    "        # レース番号\n",
    "        race_number = i\n",
    "\n",
    "        # スクレイピング対象のURLにアクセス\n",
    "        driver.get(target_url)\n",
    "\n",
    "        table_x_path = '/html/body/main/div/div/div/div[2]/div[5]/table'\n",
    "        table = driver.find_element(by=By.XPATH, value=table_x_path)\n",
    "        tbody_elements = table.find_elements(by=By.TAG_NAME, value='tbody')\n",
    "\n",
    "        for tbody in tbody_elements:\n",
    "            d_list = []\n",
    "            d_list.append(date)\n",
    "            d_list.append(place_id)\n",
    "            d_list.append(race_number)\n",
    "\n",
    "            tr_elements = tbody.find_elements(by=By.TAG_NAME, value='tr')\n",
    "            tr = tr_elements[0]\n",
    "            td_elements = tr.find_elements(by=By.TAG_NAME, value='td')\n",
    "            # 枠\n",
    "            no = td_elements[0].text\n",
    "            d_list.append(no)\n",
    "            # 登録番号\n",
    "            register_number = td_elements[2].find_elements(by=By.TAG_NAME, value='div')[0].text.split('/')[0]\n",
    "            d_list.append(register_number)\n",
    "            # クラス\n",
    "            class_ = td_elements[2].find_elements(by=By.TAG_NAME, value='div')[0].find_element(by=By.TAG_NAME, value='span').text\n",
    "            d_list.append(class_)\n",
    "            # 名前\n",
    "            name = td_elements[2].find_elements(by=By.TAG_NAME, value='div')[1].find_element(by=By.TAG_NAME, value='a').text\n",
    "            d_list.append(name)\n",
    "            # 名前URL\n",
    "            name_url = td_elements[2].find_elements(by=By.TAG_NAME, value='div')[1].find_element(by=By.TAG_NAME, value='a').get_attribute('href')\n",
    "            d_list.append(name_url)\n",
    "            # 支部\n",
    "            texts = td_elements[2].find_elements(by=By.TAG_NAME, value='div')[2].text\n",
    "            subdivision = texts.split('\\n')[0].split('/')[0]\n",
    "            d_list.append(subdivision)\n",
    "            #出身地\n",
    "            place_of_birth = texts.split('\\n')[0].split('/')[1]\n",
    "            d_list.append(place_of_birth)\n",
    "            # 年齢\n",
    "            old = texts.split('\\n')[1].split('/')[0].replace('歳', '')\n",
    "            d_list.append(old)\n",
    "            # 体重\n",
    "            weight = texts.split('\\n')[1].split('/')[1].replace('kg', '')\n",
    "            d_list.append(weight)\n",
    "\n",
    "            # F数\n",
    "            f_num = td_elements[3].text.split('\\n')[0]\n",
    "            d_list.append(f_num)\n",
    "            # L数\n",
    "            l_num = td_elements[3].text.split('\\n')[1]\n",
    "            d_list.append(l_num)\n",
    "            # 平均ST\n",
    "            st_mean = td_elements[3].text.split('\\n')[2]\n",
    "            d_list.append(st_mean)\n",
    "\n",
    "            data_list.append(d_list)"
   ]
  },
  {
   "cell_type": "code",
   "execution_count": null,
   "id": "013f660c",
   "metadata": {},
   "outputs": [],
   "source": [
    "columns = [\n",
    "    'date', 'place_id', 'race_number', 'no', 'register_number', 'class', 'name',\n",
    "    'name_url', 'subdivision', 'place_of_birth', 'old', 'weight', 'f_num', 'l_num', 'st_mean'\n",
    "]\n",
    "\n",
    "race_df = pd.DataFrame(data_list, columns=columns)\n",
    "race_df.head()"
   ]
  },
  {
   "cell_type": "code",
   "execution_count": null,
   "id": "97bd2f6b",
   "metadata": {},
   "outputs": [],
   "source": [
    "race_df.to_csv('race_df.csv')"
   ]
  },
  {
   "cell_type": "code",
   "execution_count": null,
   "id": "66264b85",
   "metadata": {},
   "outputs": [],
   "source": []
  },
  {
   "cell_type": "code",
   "execution_count": null,
   "id": "10db9bca",
   "metadata": {},
   "outputs": [],
   "source": []
  },
  {
   "cell_type": "code",
   "execution_count": null,
   "id": "1e2a8fc9",
   "metadata": {},
   "outputs": [],
   "source": []
  },
  {
   "cell_type": "code",
   "execution_count": null,
   "id": "6033e3bb",
   "metadata": {},
   "outputs": [],
   "source": []
  },
  {
   "cell_type": "code",
   "execution_count": null,
   "id": "e1e2032d",
   "metadata": {},
   "outputs": [],
   "source": []
  }
 ],
 "metadata": {
  "kernelspec": {
   "display_name": "Python 3 (ipykernel)",
   "language": "python",
   "name": "python3"
  },
  "language_info": {
   "codemirror_mode": {
    "name": "ipython",
    "version": 3
   },
   "file_extension": ".py",
   "mimetype": "text/x-python",
   "name": "python",
   "nbconvert_exporter": "python",
   "pygments_lexer": "ipython3",
   "version": "3.8.0"
  }
 },
 "nbformat": 4,
 "nbformat_minor": 5
}
